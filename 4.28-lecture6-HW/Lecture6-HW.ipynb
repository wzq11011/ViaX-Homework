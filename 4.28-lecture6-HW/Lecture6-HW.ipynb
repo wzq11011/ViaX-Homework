{
 "cells": [
  {
   "cell_type": "code",
   "execution_count": 1,
   "metadata": {},
   "outputs": [],
   "source": [
    "import torch\n",
    "from torchvision.datasets import ImageFolder\n",
    "from torch import nn\n",
    "from torch.utils.data import DataLoader\n",
    "from torch.nn import functional as F\n",
    "from datetime import datetime\n",
    "from torchvision import transforms as tfs\n",
    "from torch.nn import functional as F"
   ]
  },
  {
   "cell_type": "code",
   "execution_count": 2,
   "metadata": {},
   "outputs": [],
   "source": [
    "data_tf = tfs.ToTensor()"
   ]
  },
  {
   "cell_type": "code",
   "execution_count": 3,
   "metadata": {},
   "outputs": [],
   "source": [
    "train_set = ImageFolder('./Fruit-Images-Dataset/Training', transform = data_tf)"
   ]
  },
  {
   "cell_type": "code",
   "execution_count": 4,
   "metadata": {},
   "outputs": [],
   "source": [
    "test_set = ImageFolder('./Fruit-Images-Dataset/Test', transform = data_tf)"
   ]
  },
  {
   "cell_type": "code",
   "execution_count": 5,
   "metadata": {},
   "outputs": [],
   "source": [
    "train_data = DataLoader(train_set, batch_size = 32, shuffle = True)\n",
    "test_data = DataLoader(test_set, batch_size = 256, shuffle = False)"
   ]
  },
  {
   "cell_type": "code",
   "execution_count": 6,
   "metadata": {},
   "outputs": [],
   "source": [
    "#第一个模型\n",
    "class conv_net1(nn.Module):\n",
    "    def __init__(self):\n",
    "        super(conv_net1, self).__init__()\n",
    "        self.conv1 = nn.Conv2d(3, 16, 3)\n",
    "        self.batch_norm1 = nn.BatchNorm2d(16)\n",
    "        self.max_pool1 = nn.MaxPool2d(2, 2)\n",
    "        self.conv2 = nn.Conv2d(16, 32, 3)\n",
    "        self.batch_norm2 = nn.BatchNorm2d(32)\n",
    "        self.max_pool2 = nn.MaxPool2d(2, 2)\n",
    "        self.conv3 = nn.Conv2d(32, 64, 3)\n",
    "        self.batch_norm3 = nn.BatchNorm2d(64)\n",
    "        self.max_pool3 = nn.MaxPool2d(2, 2)\n",
    "        self.fc1 = nn.Linear(6400, 3000)\n",
    "        self.fc2 = nn.Linear(3000, 1000)\n",
    "        self.fc3 = nn.Linear(1000, 101)\n",
    "        \n",
    "    def forward(self,x):\n",
    "        x = self.conv1(x)\n",
    "        x = self.batch_norm1(x)\n",
    "        x = self.max_pool1(x)\n",
    "        x = self.conv2(x)\n",
    "        x = self.batch_norm2(x)\n",
    "        x = self.max_pool2(x)\n",
    "        x = self.conv3(x)\n",
    "        x = self.batch_norm3(x)\n",
    "        x = self.max_pool3(x)\n",
    "        x = x.view(x.shape[0], -1)\n",
    "        x = self.fc1(x)\n",
    "        x = F.relu(x)\n",
    "        x = self.fc2(x)\n",
    "        x = F.relu(x)\n",
    "        x = self.fc3(x)\n",
    "        return x"
   ]
  },
  {
   "cell_type": "code",
   "execution_count": 7,
   "metadata": {},
   "outputs": [],
   "source": [
    "net = conv_net1()\n",
    "optimizer = torch.optim.Adam(net.parameters(), lr = 0.001)\n",
    "criterion = nn.CrossEntropyLoss()"
   ]
  },
  {
   "cell_type": "code",
   "execution_count": 8,
   "metadata": {},
   "outputs": [],
   "source": [
    "# def get_acc(output, label):\n",
    "#     total = output.shape[0]\n",
    "#     _, pred_label = output.max(1)\n",
    "#     num_correct = (pred_label == label).sum().data.item()\n",
    "#     return num_correct / total\n",
    "\n",
    "\n",
    "def train(net, train_data, test_data, num_epochs, optimizer, criterion):\n",
    "    if torch.cuda.is_available():\n",
    "        net = net.cuda()\n",
    "    prev_time = datetime.now()\n",
    "    for epoch in range(num_epochs):\n",
    "        train_loss = 0\n",
    "        train_acc = 0\n",
    "        net = net.train()\n",
    "        for im, label in train_data:\n",
    "            if torch.cuda.is_available():\n",
    "                im = im.cuda() \n",
    "                label = label.cuda() \n",
    "                \n",
    "            # forward\n",
    "            output = net(im)\n",
    "            loss = criterion(output, label)\n",
    "            # backward\n",
    "            optimizer.zero_grad()\n",
    "            loss.backward()\n",
    "            optimizer.step()\n",
    "\n",
    "            train_loss += loss.data.item()\n",
    "            _,pred = output.max(1)\n",
    "            correct_num = (pred == label).sum().data.item()\n",
    "            acc = correct_num / im.shape[0]\n",
    "            train_acc += acc\n",
    "\n",
    "        cur_time = datetime.now()\n",
    "        h, remainder = divmod((cur_time - prev_time).seconds, 3600)\n",
    "        m, s = divmod(remainder, 60)\n",
    "        time_str = \"Time %02d:%02d:%02d\" % (h, m, s)\n",
    "        if test_data is not None:\n",
    "            test_loss = 0\n",
    "            test_acc = 0\n",
    "            net = net.eval()\n",
    "            for im, label in test_data:\n",
    "                if torch.cuda.is_available():\n",
    "                    im = im.cuda()\n",
    "                    label = label.cuda()\n",
    "\n",
    "                output = net(im)\n",
    "                loss = criterion(output, label)\n",
    "                test_loss += loss.data.item()\n",
    "                _, pred = output.max(1)\n",
    "                num_correct = (pred == label).sum().data.item()\n",
    "                acc = num_correct / im.shape[0]\n",
    "                test_acc += acc\n",
    "            epoch_str = (\n",
    "                \"Epoch %d. Train Loss: %f, Train Acc: %f, Valid Loss: %f, Valid Acc: %f, \"\n",
    "                % (epoch, train_loss / len(train_data),\n",
    "                   train_acc / len(train_data), test_loss / len(test_data),\n",
    "                  test_acc / len(test_data)))\n",
    "        else:\n",
    "            epoch_str = (\"Epoch %d. Train Loss: %f, Train Acc: %f, \" %\n",
    "                         (epoch, train_loss / len(train_data),\n",
    "                          train_acc / len(train_data)))\n",
    "        prev_time = cur_time\n",
    "        print(epoch_str + time_str)"
   ]
  },
  {
   "cell_type": "code",
   "execution_count": null,
   "metadata": {},
   "outputs": [],
   "source": [
    "train(net, train_data, test_data, 3, optimizer, criterion)"
   ]
  },
  {
   "cell_type": "code",
   "execution_count": 9,
   "metadata": {},
   "outputs": [],
   "source": [
    "class conv_net2(nn.Module):\n",
    "    def __init__(self):\n",
    "        super(conv_net2,self).__init__()\n",
    "        self.conv = nn.Conv2d(3, 16, 3, 5)\n",
    "        self.batch_norm = nn.BatchNorm2d(16)\n",
    "        self.max_pool = nn.MaxPool2d(2, 2)\n",
    "        self.fc = nn.Linear(1600, 101)\n",
    "    \n",
    "    def forward(self, x):\n",
    "        x = self.conv(x)\n",
    "        x = self.batch_norm(x)\n",
    "        x = self.max_pool(x)\n",
    "        x = x.view(x.shape[0], -1)\n",
    "        x = self.fc(x)\n",
    "        return x"
   ]
  },
  {
   "cell_type": "code",
   "execution_count": 10,
   "metadata": {},
   "outputs": [],
   "source": [
    "net = conv_net2()\n",
    "optimizer = torch.optim.SGD(net.parameters(), lr = 0.01)\n",
    "criterion = nn.CrossEntropyLoss()"
   ]
  },
  {
   "cell_type": "code",
   "execution_count": 11,
   "metadata": {
    "scrolled": true
   },
   "outputs": [
    {
     "name": "stdout",
     "output_type": "stream",
     "text": [
      "Epoch 0. Train Loss: 1.009434, Train Acc: 0.815311, Valid Loss: 0.575515, Valid Acc: 0.845788, Time 00:00:38\n",
      "Epoch 1. Train Loss: 0.105616, Train Acc: 0.990055, Valid Loss: 0.677816, Valid Acc: 0.799592, Time 00:00:50\n",
      "Epoch 2. Train Loss: 0.047352, Train Acc: 0.996672, Valid Loss: 0.329280, Valid Acc: 0.899004, Time 00:00:50\n"
     ]
    }
   ],
   "source": [
    "train(net, train_data, test_data, 3, optimizer, criterion)"
   ]
  },
  {
   "cell_type": "code",
   "execution_count": null,
   "metadata": {},
   "outputs": [],
   "source": []
  }
 ],
 "metadata": {
  "kernelspec": {
   "display_name": "Python 3",
   "language": "python",
   "name": "python3"
  },
  "language_info": {
   "codemirror_mode": {
    "name": "ipython",
    "version": 3
   },
   "file_extension": ".py",
   "mimetype": "text/x-python",
   "name": "python",
   "nbconvert_exporter": "python",
   "pygments_lexer": "ipython3",
   "version": "3.6.5"
  }
 },
 "nbformat": 4,
 "nbformat_minor": 2
}
