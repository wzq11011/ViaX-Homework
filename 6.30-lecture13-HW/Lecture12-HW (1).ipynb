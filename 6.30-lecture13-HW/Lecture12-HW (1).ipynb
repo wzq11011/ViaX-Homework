{
 "cells": [
  {
   "cell_type": "code",
   "execution_count": 1,
   "metadata": {},
   "outputs": [],
   "source": [
    "import torch\n",
    "from torch import nn\n",
    "from torchvision import transforms as tfs\n",
    "from torch.utils.data import DataLoader\n",
    "from torchvision.datasets import MNIST\n",
    "import numpy as np\n",
    "import matplotlib.pyplot as plt\n",
    "import random\n",
    "%matplotlib inline"
   ]
  },
  {
   "cell_type": "code",
   "execution_count": 2,
   "metadata": {},
   "outputs": [],
   "source": [
    "def process_img(x):\n",
    "    x = tfs.ToTensor()(x)\n",
    "    x = (x - 0.5) / 0.5\n",
    "    return x"
   ]
  },
  {
   "cell_type": "code",
   "execution_count": 3,
   "metadata": {},
   "outputs": [],
   "source": [
    "train_set = MNIST('./mnist', train = True, download = True, transform = process_img)"
   ]
  },
  {
   "cell_type": "code",
   "execution_count": 4,
   "metadata": {},
   "outputs": [],
   "source": [
    "x = np.random.randint(1,60000,[1, 200])"
   ]
  },
  {
   "cell_type": "code",
   "execution_count": 5,
   "metadata": {},
   "outputs": [],
   "source": [
    "train_labeled = []"
   ]
  },
  {
   "cell_type": "code",
   "execution_count": 6,
   "metadata": {},
   "outputs": [],
   "source": [
    "for i in x[0]:\n",
    "    img = train_set[i]\n",
    "    img = list(img)\n",
    "    train_labeled.append(img)"
   ]
  },
  {
   "cell_type": "code",
   "execution_count": 7,
   "metadata": {},
   "outputs": [],
   "source": [
    "NOISE_DIM = 96\n",
    "class generator(nn.Module):\n",
    "    def __init__(self, noise_dim=NOISE_DIM):\n",
    "        super(generator, self).__init__()\n",
    "        self.fc = nn.Sequential(\n",
    "                    nn.Linear(noise_dim, 1024),\n",
    "                    nn.ReLU(True),\n",
    "                    nn.Linear(1024, 1024),\n",
    "                    nn.ReLU(True),\n",
    "                    nn.Linear(1024, 7 * 7 * 128),\n",
    "                    nn.ReLU(True))\n",
    "        \n",
    "        self.conv = nn.Sequential(\n",
    "                    nn.ConvTranspose2d(128, 64, 4, 2, padding = 1),\n",
    "                    nn.ReLU(True),\n",
    "                    nn.BatchNorm2d(64),\n",
    "                    nn.ConvTranspose2d(64, 1, 4, 2, padding = 1),\n",
    "                    nn.Tanh())\n",
    "        \n",
    "    def forward(self, x):\n",
    "        x = self.fc(x)\n",
    "        x = x.view(x.shape[0], 128, 7, 7)\n",
    "        x = self.conv(x)\n",
    "        return x"
   ]
  },
  {
   "cell_type": "code",
   "execution_count": 8,
   "metadata": {},
   "outputs": [],
   "source": [
    "class discriminator(nn.Module):\n",
    "    def __init__(self):\n",
    "        super(discriminator, self).__init__()\n",
    "        self.conv = nn.Sequential(\n",
    "            nn.Conv2d(1, 32, 5, 1),\n",
    "            nn.LeakyReLU(0.01),\n",
    "            nn.MaxPool2d(2, 2),\n",
    "            nn.Conv2d(32, 64, 5, 1),\n",
    "            nn.LeakyReLU(0.01),\n",
    "            nn.MaxPool2d(2, 2)\n",
    "        )\n",
    "        \n",
    "        self.fc = nn.Sequential(\n",
    "                    nn.Linear(1024, 800),\n",
    "                    nn.ReLU(True),\n",
    "                    nn.Linear(800, 200),\n",
    "                    nn.ReLU(True),\n",
    "                    nn.Linear(200, 11))\n",
    "        \n",
    "    def forward(self, x):\n",
    "        x = self.conv(x)\n",
    "        x = x.view(x.shape[0], -1)\n",
    "        x = self.fc(x)\n",
    "        return x"
   ]
  },
  {
   "cell_type": "code",
   "execution_count": 9,
   "metadata": {},
   "outputs": [],
   "source": [
    "bce_loss = nn.BCEWithLogitsLoss()\n",
    "\n",
    "def generator_loss(logits_fake):\n",
    "    size = logits_fake.shape[0]\n",
    "    true_labels = torch.ones(size, 1).float().cuda()\n",
    "    loss = bce_loss(logits_fake[:,10].view(20, 1), true_labels)\n",
    "    return loss"
   ]
  },
  {
   "cell_type": "code",
   "execution_count": 10,
   "metadata": {},
   "outputs": [],
   "source": [
    "def discriminator_loss(labeled, real_label, logits_real, logits_fake):\n",
    "    size = logits_real.shape[0]\n",
    "    true_labels = torch.ones(size, 1)\n",
    "    true_labels = true_labels.float().cuda()\n",
    "    false_labels = torch.zeros(size, 1)\n",
    "    false_labels = false_labels.float().cuda()\n",
    "    loss1 = nn.CrossEntropyLoss()\n",
    "    loss11 = loss1(labeled[:,0:10], real_label)\n",
    "    loss2 = bce_loss(logits_real[:,10].view(20, 1), true_labels) + bce_loss(logits_fake[:,10].view(20, 1), false_labels)\n",
    "    return loss11 + loss2"
   ]
  },
  {
   "cell_type": "code",
   "execution_count": 11,
   "metadata": {},
   "outputs": [],
   "source": [
    "def discriminator_loss1(logits_real, logits_fake, label):\n",
    "    size = logits_real.shape[0]\n",
    "    true_labels = torch.ones(size, 1)\n",
    "    ture_labels = true_labels.float()\n",
    "    false_labels = torch.zeros(size, 1)\n",
    "    false_labels = false_labels.float()\n",
    "    loss1 = nn.CrossEntropyLoss()\n",
    "    loss11 = loss1(logits_real[:, 0:10], label)\n",
    "    loss2 = bce_loss(logits_real[:,10].view(20, 1), true_labels) + bce_loss(logits_fake[:,10].view(20, 1), false_labels)\n",
    "    return loss11 + loss2"
   ]
  },
  {
   "cell_type": "code",
   "execution_count": 12,
   "metadata": {},
   "outputs": [],
   "source": [
    "train_labeled_data = DataLoader(train_labeled, batch_size = 20,shuffle = True)"
   ]
  },
  {
   "cell_type": "code",
   "execution_count": 13,
   "metadata": {},
   "outputs": [],
   "source": [
    "train_unlabeled_data = DataLoader(train_set, batch_size = 20, shuffle = True)"
   ]
  },
  {
   "cell_type": "code",
   "execution_count": 14,
   "metadata": {},
   "outputs": [],
   "source": [
    "test_set = MNIST('./mnist', train = False, transform = process_img)\n",
    "test_data = DataLoader(test_set, batch_size = 64, shuffle = False)"
   ]
  },
  {
   "cell_type": "code",
   "execution_count": 15,
   "metadata": {},
   "outputs": [],
   "source": [
    "G_net = generator().cuda()\n",
    "D_net = discriminator().cuda()\n",
    "generator_optim = torch.optim.Adam(G_net.parameters(), lr = 1e-4, betas = (0.5, 0.999))\n",
    "discriminator_optim = torch.optim.Adam(D_net.parameters(), lr = 1e-4, betas = (0.5, 0.999))"
   ]
  },
  {
   "cell_type": "code",
   "execution_count": 16,
   "metadata": {},
   "outputs": [],
   "source": [
    "def train_gan(discriminator, generator, discriminator_loss, generator_loss, discriminator_optim, generator_optim, \n",
    "              noise_size=96, num_epochs=10):\n",
    "    iter_count = 0\n",
    "    for epoch in range(num_epochs):\n",
    "        for im, label in train_labeled_data:\n",
    "            for x, _ in train_unlabeled_data:\n",
    "                bs = x.shape[0]\n",
    "                labeled = 0\n",
    "                real_label = 0\n",
    "            \n",
    "                real_data = x.cuda()\n",
    "                logits_real = discriminator(real_data)\n",
    "            \n",
    "                sample_noise = (torch.rand(bs, noise_size) - 0.5)/ 0.5\n",
    "                g_fake_seed = sample_noise.cuda()\n",
    "                fake_image = generator(g_fake_seed)\n",
    "                logits_fake = discriminator(fake_image)\n",
    "                        \n",
    "                im = im.cuda()\n",
    "                labeled = discriminator(im)\n",
    "                d_error = discriminator_loss(labeled, label.cuda(), logits_real, logits_fake)\n",
    "                discriminator_optim.zero_grad()\n",
    "                d_error.backward(retain_graph = True)\n",
    "                discriminator_optim.step()\n",
    "            \n",
    "                g_fake_seed = sample_noise.cuda()\n",
    "                fake_image = generator(g_fake_seed)\n",
    "                g_logits_fake = discriminator(fake_image)\n",
    "                g_error = generator_loss(g_logits_fake)\n",
    "                generator_optim.zero_grad()\n",
    "                g_error.backward()\n",
    "                generator_optim.step()\n",
    "        iter_count += 1\n",
    "            \n",
    "        print('Iter: {}, D: {:.4}, G:{:.4}'.format(iter_count, d_error.data.item(), g_error.data.item()))\n",
    "        "
   ]
  },
  {
   "cell_type": "code",
   "execution_count": 17,
   "metadata": {},
   "outputs": [
    {
     "name": "stdout",
     "output_type": "stream",
     "text": [
      "Iter: 1, D: 0.06529, G:4.046\n",
      "Iter: 2, D: 0.1085, G:2.572\n",
      "Iter: 3, D: 0.4235, G:2.245\n",
      "Iter: 4, D: 0.7058, G:2.393\n",
      "Iter: 5, D: 0.2183, G:2.189\n",
      "Iter: 6, D: 0.6098, G:2.532\n",
      "Iter: 7, D: 0.2188, G:2.145\n",
      "Iter: 8, D: 0.3296, G:2.394\n",
      "Iter: 9, D: 0.4154, G:2.531\n",
      "Iter: 10, D: 0.3921, G:2.732\n"
     ]
    }
   ],
   "source": [
    "train_gan(D_net, G_net, discriminator_loss, generator_loss, discriminator_optim, generator_optim, num_epochs = 10)"
   ]
  },
  {
   "cell_type": "code",
   "execution_count": 18,
   "metadata": {},
   "outputs": [
    {
     "name": "stdout",
     "output_type": "stream",
     "text": [
      "acc:0.817775\n",
      "acc:0.817775\n",
      "acc:0.817775\n"
     ]
    }
   ],
   "source": [
    "for e in range(3):\n",
    "    eval_acc = 0\n",
    "    for im, label in test_data:\n",
    "        im = im.cuda()\n",
    "        label = label.cuda()\n",
    "        out = D_net(im)\n",
    "        _,pred = out[:,0:10].max(1)\n",
    "        num_correct = (pred == label).sum().data.item()\n",
    "        acc = num_correct / im.shape[0]\n",
    "        eval_acc += acc\n",
    "    print('acc:{:.6f}'.format(eval_acc/len(test_data)))"
   ]
  },
  {
   "cell_type": "code",
   "execution_count": 19,
   "metadata": {},
   "outputs": [
    {
     "name": "stderr",
     "output_type": "stream",
     "text": [
      "/usr/local/miniconda3/envs/dl/lib/python3.6/site-packages/torch/serialization.py:251: UserWarning: Couldn't retrieve source code for container of type discriminator. It won't be checked for correctness upon loading.\n",
      "  \"type \" + obj.__name__ + \". It won't be checked \"\n"
     ]
    }
   ],
   "source": [
    "torch.save(discriminator, './discriminator.pth')"
   ]
  },
  {
   "cell_type": "code",
   "execution_count": 20,
   "metadata": {},
   "outputs": [
    {
     "name": "stderr",
     "output_type": "stream",
     "text": [
      "/usr/local/miniconda3/envs/dl/lib/python3.6/site-packages/torch/serialization.py:251: UserWarning: Couldn't retrieve source code for container of type generator. It won't be checked for correctness upon loading.\n",
      "  \"type \" + obj.__name__ + \". It won't be checked \"\n"
     ]
    }
   ],
   "source": [
    "torch.save(generator, './generator.pth')"
   ]
  },
  {
   "cell_type": "code",
   "execution_count": 21,
   "metadata": {},
   "outputs": [],
   "source": [
    "generator1 = torch.load('./generator.pth')"
   ]
  },
  {
   "cell_type": "code",
   "execution_count": 23,
   "metadata": {},
   "outputs": [],
   "source": [
    "torch.save(G_net,'./generator.pth')"
   ]
  },
  {
   "cell_type": "code",
   "execution_count": 24,
   "metadata": {},
   "outputs": [],
   "source": [
    "torch.save(D_net, './discriminator.pth')"
   ]
  },
  {
   "cell_type": "code",
   "execution_count": 25,
   "metadata": {},
   "outputs": [
    {
     "data": {
      "text/plain": [
       "generator(\n",
       "  (fc): Sequential(\n",
       "    (0): Linear(in_features=96, out_features=1024, bias=True)\n",
       "    (1): ReLU(inplace)\n",
       "    (2): Linear(in_features=1024, out_features=1024, bias=True)\n",
       "    (3): ReLU(inplace)\n",
       "    (4): Linear(in_features=1024, out_features=6272, bias=True)\n",
       "    (5): ReLU(inplace)\n",
       "  )\n",
       "  (conv): Sequential(\n",
       "    (0): ConvTranspose2d(128, 64, kernel_size=(4, 4), stride=(2, 2), padding=(1, 1))\n",
       "    (1): ReLU(inplace)\n",
       "    (2): BatchNorm2d(64, eps=1e-05, momentum=0.1, affine=True, track_running_stats=True)\n",
       "    (3): ConvTranspose2d(64, 1, kernel_size=(4, 4), stride=(2, 2), padding=(1, 1))\n",
       "    (4): Tanh()\n",
       "  )\n",
       ")"
      ]
     },
     "execution_count": 25,
     "metadata": {},
     "output_type": "execute_result"
    }
   ],
   "source": [
    "torch.load('generator.pth')"
   ]
  },
  {
   "cell_type": "code",
   "execution_count": null,
   "metadata": {},
   "outputs": [],
   "source": []
  }
 ],
 "metadata": {
  "kernelspec": {
   "display_name": "Python 3",
   "language": "python",
   "name": "python3"
  },
  "language_info": {
   "codemirror_mode": {
    "name": "ipython",
    "version": 3
   },
   "file_extension": ".py",
   "mimetype": "text/x-python",
   "name": "python",
   "nbconvert_exporter": "python",
   "pygments_lexer": "ipython3",
   "version": "3.6.6"
  }
 },
 "nbformat": 4,
 "nbformat_minor": 2
}
