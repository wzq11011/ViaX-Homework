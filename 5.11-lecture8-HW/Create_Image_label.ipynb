{
 "cells": [
  {
   "cell_type": "code",
   "execution_count": 1,
   "metadata": {},
   "outputs": [],
   "source": [
    "from PIL import Image\n",
    "import xmltodict\n",
    "import os"
   ]
  },
  {
   "cell_type": "code",
   "execution_count": 2,
   "metadata": {},
   "outputs": [],
   "source": [
    "def return_boundary(path):\n",
    "    with open(path) as fd:\n",
    "        doc = xmltodict.parse(fd.read())\n",
    "        x = []\n",
    "        for i in doc['annotation']['object']:\n",
    "            x.append(i)\n",
    "        xmin1 = int(x[0]['bndbox']['xmin'])\n",
    "        xmax1 = int(x[0]['bndbox']['xmax'])\n",
    "        ymin1 = int(x[0]['bndbox']['ymin'])\n",
    "        ymax1 = int(x[0]['bndbox']['ymax'])\n",
    "        xmin2 = int(x[1]['bndbox']['xmin'])\n",
    "        xmax2 = int(x[1]['bndbox']['xmax'])\n",
    "        ymin2 = int(x[1]['bndbox']['ymin'])\n",
    "        ymax2 = int(x[1]['bndbox']['ymax'])\n",
    "        object_name = x[0]['name']\n",
    "        file_name = doc['annotation']['filename']\n",
    "        width = int(doc['annotation']['size']['width'])\n",
    "        height = int(doc['annotation']['size']['height'])\n",
    "        return (xmin1, xmax1, ymin1, ymax1, xmin2, xmax2, ymin2, ymax2, file_name, width, height, object_name)"
   ]
  },
  {
   "cell_type": "code",
   "execution_count": 3,
   "metadata": {},
   "outputs": [],
   "source": [
    "list_dict = os.listdir('Annotations')"
   ]
  },
  {
   "cell_type": "code",
   "execution_count": 4,
   "metadata": {},
   "outputs": [],
   "source": [
    "for i in list_dict:\n",
    "    xmin1, xmax1, ymin1, ymax1, xmin2, xmax2, ymin2, ymax2, file_name, width, height, object_name = return_boundary('Annotations/'+i)\n",
    "    img = Image.new('RGB', (width, height), 'white')\n",
    "    pixels = img.load()\n",
    "    if object_name == 'apple':\n",
    "        for j in range(xmin1, xmax1, 1):\n",
    "            for k in range(ymin1, ymax1, 1):\n",
    "                pixels[j, k] = (255, 0, 0)\n",
    "    \n",
    "    elif object_name == 'banana':\n",
    "        for j in range(xmin1, xmax1, 1):\n",
    "            for k in range(ymin1, ymax1, 1):\n",
    "                pixels[j, k] = (227, 207, 87)\n",
    "    \n",
    "    elif object_name == 'bread':\n",
    "        for j in range(xmin1, xmax1, 1):\n",
    "            for k in range(ymin1, ymax1, 1):\n",
    "                pixels[j, k] = (165, 42, 42)\n",
    "    elif object_name == 'bun':\n",
    "        for j in range(xmin1, xmax1, 1):\n",
    "            for k in range(ymin1, ymax1, 1):\n",
    "                pixels[j, k] = (255, 245, 238)\n",
    "                \n",
    "    elif object_name == 'doughnut':\n",
    "        for j in range(xmin1, xmax1, 1):\n",
    "            for k in range(ymin1, ymax1, 1):\n",
    "                pixels[j, k] = (255, 215, 0)\n",
    "                \n",
    "    elif object_name == 'egg':\n",
    "        for j in range(xmin1, xmax1, 1):\n",
    "            for k in range(ymin1, ymax1, 1):\n",
    "                pixels[j, k] = (205, 133, 63)\n",
    "    elif object_name == 'fired_dough_twist':\n",
    "        for j in range(xmin1, xmax1, 1):\n",
    "            for k in range(ymin1, ymax1, 1):\n",
    "                pixels[j, k] = (139, 69, 19)\n",
    "    elif object_name == 'grape':\n",
    "        for j in range(xmin1, xmax1, 1):\n",
    "            for k in range(ymin1, ymax1, 1):\n",
    "                pixels[j, k] = (128, 0, 128)\n",
    "    elif object_name == 'lemon':\n",
    "        for j in range(xmin1, xmax1, 1):\n",
    "            for k in range(ymin1, ymax1, 1):\n",
    "                pixels[j, k] = (255, 227, 132)\n",
    "    elif object_name == 'litchi':\n",
    "        for j in range(xmin1, xmax1, 1):\n",
    "            for k in range(ymin1, ymax1, 1):\n",
    "                pixels[j, k] = (255, 69, 0)\n",
    "    elif object_name == 'mango':\n",
    "        for j in range(xmin1, xmax1, 1):\n",
    "            for k in range(ymin1, ymax1, 1):\n",
    "                pixels[j, k] = (255, 255, 0)\n",
    "    elif object_name == 'mooncake':\n",
    "        for j in range(xmin1, xmax1, 1):\n",
    "            for k in range(ymin1, ymax1, 1):\n",
    "                pixels[j, k] = (215, 105, 30)\n",
    "    elif object_name == 'orange':\n",
    "        for j in range(xmin1, xmax1, 1):\n",
    "            for k in range(ymin1, ymax1, 1):\n",
    "                pixels[j, k] = (255, 165, 0)\n",
    "    elif object_name == 'pear':\n",
    "        for j in range(xmin1, xmax1, 1):\n",
    "            for k in range(ymin1, ymax1, 1):\n",
    "                pixels[j, k] = (255, 227, 132)\n",
    "    elif object_name == 'peach':\n",
    "        for j in range(xmin1, xmax1, 1):\n",
    "            for k in range(ymin1, ymax1, 1):\n",
    "                pixels[j, k] = (220, 20, 60)\n",
    "    elif object_name == 'plum':\n",
    "        for j in range(xmin1, xmax1, 1):\n",
    "            for k in range(ymin1, ymax1, 1):\n",
    "                pixels[j, k] = (139, 0, 0)\n",
    "    elif object_name == 'qiwi':\n",
    "        for j in range(xmin1, xmax1, 1):\n",
    "            for k in range(ymin1, ymax1, 1):\n",
    "                pixels[j, k] = (34, 139, 34)\n",
    "    elif object_name == 'sachima':\n",
    "        for j in range(xmin1, xmax1, 1):\n",
    "            for k in range(ymin1, ymax1, 1):\n",
    "                pixels[j, k] = (255, 255, 240)\n",
    "    elif object_name == 'tomato':\n",
    "        for j in range(xmin1, xmax1, 1):\n",
    "            for k in range(ymin1, ymax1, 1):\n",
    "                pixels[j, k] = (255, 99, 71)\n",
    "    \n",
    "    for j in range(xmin2, xmax2, 1):\n",
    "        for k in range(ymin2, ymax2, 1):\n",
    "            pixels[j, k] = (0, 0, 0)\n",
    "    img.save('label/{}'.format(file_name))"
   ]
  },
  {
   "cell_type": "code",
   "execution_count": 5,
   "metadata": {},
   "outputs": [],
   "source": [
    "img = Image.open('./label/apple001S(1).JPG')"
   ]
  },
  {
   "cell_type": "code",
   "execution_count": 8,
   "metadata": {},
   "outputs": [],
   "source": [
    "import numpy as np"
   ]
  },
  {
   "cell_type": "code",
   "execution_count": 9,
   "metadata": {},
   "outputs": [
    {
     "data": {
      "text/plain": [
       "(551, 816, 3)"
      ]
     },
     "execution_count": 9,
     "metadata": {},
     "output_type": "execute_result"
    }
   ],
   "source": [
    "img = np.array(img)\n",
    "img.shape"
   ]
  },
  {
   "cell_type": "code",
   "execution_count": null,
   "metadata": {},
   "outputs": [],
   "source": []
  }
 ],
 "metadata": {
  "kernelspec": {
   "display_name": "Python 3",
   "language": "python",
   "name": "python3"
  },
  "language_info": {
   "codemirror_mode": {
    "name": "ipython",
    "version": 3
   },
   "file_extension": ".py",
   "mimetype": "text/x-python",
   "name": "python",
   "nbconvert_exporter": "python",
   "pygments_lexer": "ipython3",
   "version": "3.6.5"
  }
 },
 "nbformat": 4,
 "nbformat_minor": 2
}
