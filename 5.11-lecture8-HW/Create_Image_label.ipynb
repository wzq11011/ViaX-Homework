{
 "cells": [
  {
   "cell_type": "code",
   "execution_count": 1,
   "metadata": {},
   "outputs": [],
   "source": [
    "from PIL import Image\n",
    "import xmltodict\n",
    "import os"
   ]
  },
  {
   "cell_type": "code",
   "execution_count": 2,
   "metadata": {},
   "outputs": [],
   "source": [
    "def return_boundary(path):\n",
    "    with open(path) as fd:\n",
    "        doc = xmltodict.parse(fd.read())\n",
    "        x = []\n",
    "        for i in doc['annotation']['object']:\n",
    "            x.append(i)\n",
    "        xmin1 = int(x[0]['bndbox']['xmin'])\n",
    "        xmax1 = int(x[0]['bndbox']['xmax'])\n",
    "        ymin1 = int(x[0]['bndbox']['ymin'])\n",
    "        ymax1 = int(x[0]['bndbox']['ymax'])\n",
    "        xmin2 = int(x[1]['bndbox']['xmin'])\n",
    "        xmax2 = int(x[1]['bndbox']['xmax'])\n",
    "        ymin2 = int(x[1]['bndbox']['ymin'])\n",
    "        ymax2 = int(x[1]['bndbox']['ymax'])\n",
    "        file_name = doc['annotation']['filename']\n",
    "        width = int(doc['annotation']['size']['width'])\n",
    "        height = int(doc['annotation']['size']['height'])\n",
    "        return (xmin1, xmax1, ymin1, ymax1, xmin2, xmax2, ymin2, ymax2, file_name, width, height)"
   ]
  },
  {
   "cell_type": "code",
   "execution_count": 3,
   "metadata": {},
   "outputs": [],
   "source": [
    "list_dict = os.listdir('Annotations')"
   ]
  },
  {
   "cell_type": "code",
   "execution_count": 4,
   "metadata": {},
   "outputs": [],
   "source": [
    "for i in list_dict:\n",
    "    xmin1, xmax1, ymin1, ymax1, xmin2, xmax2, ymin2, ymax2, file_name, width, height= return_boundary('Annotations/'+i)\n",
    "    img = Image.new('RGB', (width, height), 'white')\n",
    "    pixels = img.load()\n",
    "    for i in range(xmin1, xmax1, 1):\n",
    "        for j in range(ymin1, ymax1, 1):\n",
    "            pixels[i, j] = (0, 0, 0)\n",
    "    \n",
    "    for i in range(xmin2, xmax2, 1):\n",
    "        for j in range(ymin2, ymax2, 1):\n",
    "            pixels[i, j] = (0, 0, 0)\n",
    "    img.save('label/{}'.format(file_name))"
   ]
  },
  {
   "cell_type": "code",
   "execution_count": null,
   "metadata": {},
   "outputs": [],
   "source": []
  }
 ],
 "metadata": {
  "kernelspec": {
   "display_name": "Python 3",
   "language": "python",
   "name": "python3"
  },
  "language_info": {
   "codemirror_mode": {
    "name": "ipython",
    "version": 3
   },
   "file_extension": ".py",
   "mimetype": "text/x-python",
   "name": "python",
   "nbconvert_exporter": "python",
   "pygments_lexer": "ipython3",
   "version": "3.6.5"
  }
 },
 "nbformat": 4,
 "nbformat_minor": 2
}
