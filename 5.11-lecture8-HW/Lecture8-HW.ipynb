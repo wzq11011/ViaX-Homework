{
 "cells": [
  {
   "cell_type": "code",
   "execution_count": 1,
   "metadata": {},
   "outputs": [],
   "source": [
    "import torch\n",
    "from torch import nn\n",
    "from torchvision import transforms\n",
    "from torch.utils.data import DataLoader, Dataset\n",
    "import os\n",
    "import cv2\n",
    "import pdb\n",
    "from onehot import onehot\n",
    "from torch.nn import functional as F"
   ]
  },
  {
   "cell_type": "code",
   "execution_count": 2,
   "metadata": {},
   "outputs": [],
   "source": [
    "transform = transforms.Compose(\n",
    "    [transforms.ToTensor(), \n",
    "     transforms.Normalize(mean=[0.485, 0.456, 0.406], std=[0.229, 0.224, 0.225])\n",
    "    ])"
   ]
  },
  {
   "cell_type": "code",
   "execution_count": 3,
   "metadata": {},
   "outputs": [],
   "source": [
    "class TrainDatasets(Dataset):\n",
    "    def __init__(self, transform = None):\n",
    "        self.transform = transform\n",
    "    \n",
    "    def __len__(self):\n",
    "        return len(os.listdir('train_image'))\n",
    "    \n",
    "    def __getitem__(self, idx):\n",
    "        img_name = os.listdir('train_image')[idx]\n",
    "        imgA = cv2.imread('train_image/'+img_name)\n",
    "        imgA = cv2.resize(imgA, (800, 600))\n",
    "        imgB = cv2.imread('train_label/'+img_name, 0)\n",
    "        imgB = cv2.resize(imgB, (800, 600))\n",
    "        imgB = imgB/255\n",
    "        imgB = imgB.astype('uint8')\n",
    "        imgB = onehot(imgB, 3)\n",
    "        imgB = imgB.swapaxes(0, 2).swapaxes(1, 2)\n",
    "        imgB = torch.FloatTensor(imgB)\n",
    "       # print(imgB.shape)\n",
    "        if self.transform:\n",
    "            imgA = self.transform(imgA)    \n",
    "        item = {'A':imgA, 'B':imgB}\n",
    "        return item"
   ]
  },
  {
   "cell_type": "code",
   "execution_count": 4,
   "metadata": {},
   "outputs": [],
   "source": [
    "train_sets = TrainDatasets(transform)\n",
    "train_data = DataLoader(train_sets, batch_size = 4, shuffle = True)\n",
    "if __name__ =='__main__':\n",
    "    for batch in train_data:\n",
    "        break"
   ]
  },
  {
   "cell_type": "code",
   "execution_count": 5,
   "metadata": {},
   "outputs": [],
   "source": [
    "class TestDatasets(Dataset):\n",
    "    def __init__(self, transform = None):\n",
    "        self.transform = transform\n",
    "    \n",
    "    def __len__(self):\n",
    "        return len(os.listdir('test_image'))\n",
    "    \n",
    "    def __getitem__(self, idx):\n",
    "        img_name = os.listdir('test_image')[idx]\n",
    "        imgA = cv2.imread('test_image/'+img_name)\n",
    "        imgA = cv2.resize(imgA, (800, 600))\n",
    "        imgB = cv2.imread('test_label/'+img_name, 0)\n",
    "        imgB = cv2.resize(imgB, (800, 600))\n",
    "        imgB = imgB/255\n",
    "        imgB = imgB.astype('uint8')\n",
    "        imgB = onehot(imgB,3)\n",
    "        imgB = imgB.swapaxes(0, 2).swapaxes(1, 2)\n",
    "        imgB = torch.FloatTensor(imgB)\n",
    "        #rint(imgB.shape)\n",
    "        if self.transform:\n",
    "            imgA = self.transform(imgA)    \n",
    "        item = {'A':imgA, 'B':imgB}\n",
    "        return item"
   ]
  },
  {
   "cell_type": "code",
   "execution_count": 6,
   "metadata": {},
   "outputs": [],
   "source": [
    "test_sets = TestDatasets(transform)\n",
    "test_data = DataLoader(test_sets, batch_size = 4, shuffle = True)\n",
    "if __name__ =='__main__':\n",
    "    for batch in test_data:\n",
    "        break"
   ]
  },
  {
   "cell_type": "code",
   "execution_count": 7,
   "metadata": {},
   "outputs": [],
   "source": [
    "class FCN(nn.Module):\n",
    "    def __init__(self):\n",
    "        super(FCN,self).__init__()\n",
    "        self.conv1 = nn.Conv2d(3, 64, 3, 1, 1)\n",
    "        self.batch_norm1 = nn.BatchNorm2d(64)\n",
    "        self.max_pool1 = nn.MaxPool2d(2, 2)\n",
    "        self.conv2 = nn.Conv2d(64, 128, 3, 1, 1)\n",
    "        self.batch_norm2 = nn.BatchNorm2d(128)\n",
    "        self.max_pool2 = nn.MaxPool2d(2, 2)\n",
    "        self.conv3 = nn.Conv2d(128, 256, 3, 1, 1)\n",
    "        self.batch_norm3 = nn.BatchNorm2d(256)\n",
    "        self.max_pool3 = nn.MaxPool2d(2, 2)\n",
    "        ##self.demax1 = nn.MaxUnpool2d(2, 2)\n",
    "        self.deconv1 = nn.ConvTranspose2d(256, 128, 4, 2, 1)\n",
    "        self.debatch1 = nn.BatchNorm2d(128)\n",
    "        #self.demax2 = nn.MaxUnpool2d(2, 2)\n",
    "        self.deconv2 = nn.ConvTranspose2d(128, 64, 4, 2, 1)\n",
    "        self.debatch2 = nn.BatchNorm2d(64)\n",
    "        #self.demax3 = nn.MaxUnpool2d(2, 2)\n",
    "        self.deconv3 = nn.ConvTranspose2d(64, 32, 4, 2, 1)\n",
    "        self.debatch3 = nn.BatchNorm2d(32)\n",
    "        self.classifier = nn.Conv2d(32, 3, 1)\n",
    "    \n",
    "    def forward(self, x):\n",
    "        x = self.conv1(x)\n",
    "        x = F.relu(x)\n",
    "        x = self.batch_norm1(x)\n",
    "        x = self.max_pool1(x)\n",
    "        x1 = x\n",
    "        x = self.conv2(x)\n",
    "        x = F.relu(x)\n",
    "        x = self.batch_norm2(x)\n",
    "        x = self.max_pool2(x)\n",
    "        x = self.conv3(x)\n",
    "        x = F.relu(x)\n",
    "        x = self.batch_norm3(x)\n",
    "        x = self.max_pool3(x)\n",
    "        #x = self.demax1(x)\n",
    "        x = self.deconv1(x)\n",
    "        x = F.relu(x)\n",
    "        x = self.debatch1(x)\n",
    "        #x = self.demax2(x)\n",
    "        x = self.deconv2(x)\n",
    "        x = F.relu(x)\n",
    "        x = self.debatch2(x)\n",
    "        x = x + x1\n",
    "        #x = self.demax3(x)\n",
    "        x = self.deconv3(x)\n",
    "        x = F.relu(x)\n",
    "        x = self.debatch3(x)\n",
    "        x = self.classifier(x)\n",
    "        return x"
   ]
  },
  {
   "cell_type": "code",
   "execution_count": 8,
   "metadata": {},
   "outputs": [],
   "source": [
    "fcn_net = FCN().cuda()\n",
    "optimizer = torch.optim.Adam(fcn_net.parameters(), lr = 0.01)\n",
    "criterion = nn.BCELoss().cuda()"
   ]
  },
  {
   "cell_type": "code",
   "execution_count": 9,
   "metadata": {},
   "outputs": [
    {
     "name": "stderr",
     "output_type": "stream",
     "text": [
      "/usr/local/miniconda3/envs/dl/lib/python3.6/site-packages/torch/nn/functional.py:1332: UserWarning: nn.functional.sigmoid is deprecated. Use torch.sigmoid instead.\n",
      "  warnings.warn(\"nn.functional.sigmoid is deprecated. Use torch.sigmoid instead.\")\n"
     ]
    },
    {
     "name": "stdout",
     "output_type": "stream",
     "text": [
      "epoch loss:0.16584154561161996\n",
      "epoch loss:0.12489174453169108\n",
      "epoch loss:0.1103087125942111\n",
      "epoch loss:0.09782296278327704\n",
      "epoch loss:0.0891214747056365\n"
     ]
    }
   ],
   "source": [
    "for i in range(5):\n",
    "    epo_loss = 0\n",
    "    for item in train_data:\n",
    "        im = item['A']\n",
    "        labels = item['B']\n",
    "        im = im.cuda()\n",
    "        labels = labels.cuda()\n",
    "        \n",
    "        output = fcn_net(im)\n",
    "        output = nn.functional.sigmoid(output)\n",
    "        loss = criterion(output, labels)\n",
    "        \n",
    "        optimizer.zero_grad()\n",
    "        loss.backward()\n",
    "        iter_loss = loss.data.item()\n",
    "        epo_loss += iter_loss\n",
    "        optimizer.step()\n",
    "    \n",
    "    print('epoch loss:{}'.format(epo_loss / len(train_data)))"
   ]
  }
 ],
 "metadata": {
  "kernelspec": {
   "display_name": "Python 3",
   "language": "python",
   "name": "python3"
  },
  "language_info": {
   "codemirror_mode": {
    "name": "ipython",
    "version": 3
   },
   "file_extension": ".py",
   "mimetype": "text/x-python",
   "name": "python",
   "nbconvert_exporter": "python",
   "pygments_lexer": "ipython3",
   "version": "3.6.6"
  }
 },
 "nbformat": 4,
 "nbformat_minor": 2
}
