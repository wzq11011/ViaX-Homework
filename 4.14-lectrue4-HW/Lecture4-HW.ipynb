{
 "cells": [
  {
   "cell_type": "code",
   "execution_count": 1,
   "metadata": {},
   "outputs": [],
   "source": [
    "import torch\n",
    "from torch import nn\n",
    "from torchvision.datasets import MNIST\n",
    "from torch.utils.data import DataLoader\n",
    "import numpy as np\n",
    "from torch.nn import functional as F\n",
    "import torchvision.transforms as tfs\n",
    "from datetime import datetime"
   ]
  },
  {
   "cell_type": "code",
   "execution_count": 2,
   "metadata": {},
   "outputs": [],
   "source": [
    "def data_tf(x):\n",
    "    data_aug = tfs.Compose([\n",
    "        tfs.RandomHorizontalFlip(),\n",
    "        tfs.ColorJitter(brightness = 0.5, contrast = 0.5, hue = 0.2),\n",
    "        tfs.ToTensor()\n",
    "    ])\n",
    "    x = data_aug(x)\n",
    "    return x"
   ]
  },
  {
   "cell_type": "code",
   "execution_count": 3,
   "metadata": {},
   "outputs": [],
   "source": [
    "train_set = MNIST('./data', train = True, transform = data_tf, download = True)\n",
    "train_data = DataLoader(train_set, batch_size = 64, shuffle = True)\n",
    "test_set = MNIST('./data', train = False, transform = data_tf, download = True)\n",
    "test_data = DataLoader(test_set, batch_size = 128, shuffle = False)"
   ]
  },
  {
   "cell_type": "code",
   "execution_count": 4,
   "metadata": {},
   "outputs": [],
   "source": [
    "class conv_net(nn.Module):\n",
    "    def __init__(self):\n",
    "        super(conv_net, self).__init__()\n",
    "        self.conv1 = nn.Conv2d(1, 16, 5, 2, 2)\n",
    "        self.norm1 = nn.BatchNorm2d(16)\n",
    "        self.maxpool1 = nn.MaxPool2d(2, 2)\n",
    "        self.conv2 = nn.Conv2d(16, 8, 5, padding = 2)\n",
    "        self.norm2 = nn.BatchNorm2d(8)\n",
    "        self.maxpool2 = nn.MaxPool2d(2, 2)\n",
    "        self.fc = nn.Linear(72, 10)\n",
    "        \n",
    "    \n",
    "    def forward(self,x):\n",
    "        x = self.conv1(x)\n",
    "        x = self.norm1(x)\n",
    "        x = F.relu(x)\n",
    "        x = self.maxpool1(x)\n",
    "        x = self.conv2(x)\n",
    "        x = self.norm2(x)\n",
    "        x = F.relu(x)\n",
    "        x = self.maxpool2(x)\n",
    "        x = x.view(x.shape[0], -1)\n",
    "        x = self.fc(x)\n",
    "        return x"
   ]
  },
  {
   "cell_type": "code",
   "execution_count": 5,
   "metadata": {},
   "outputs": [],
   "source": [
    "def set_learning_rate(optimizer, lr):\n",
    "    for param_groups in optimizer.param_groups:\n",
    "        param_groups['lr'] = lr"
   ]
  },
  {
   "cell_type": "code",
   "execution_count": 6,
   "metadata": {},
   "outputs": [],
   "source": [
    "def train(net, train_data, test_data, epoch, optimizer, criterion):\n",
    "    train_losses = []\n",
    "    test_losses = []\n",
    "    if torch.cuda.is_available():\n",
    "        net = net.cuda()\n",
    "    prev_time = datetime.now()\n",
    "    for epoch in range(epoch):\n",
    "        if epoch == 15:\n",
    "            set_learning_rate(optimizer, 0.001)\n",
    "        train_loss = 0\n",
    "        train_acc = 0\n",
    "        net = net.train()\n",
    "        for im, labels in train_data:\n",
    "            if torch.cuda.is_available():\n",
    "                im = im.cuda()\n",
    "                labels = labels.cuda()\n",
    "            \n",
    "            output = net(im)\n",
    "            loss = criterion(output, labels)\n",
    "            \n",
    "            optimizer.zero_grad()\n",
    "            loss.backward()\n",
    "            optimizer.step()\n",
    "            \n",
    "            train_loss += loss.data.item()\n",
    "            train_acc += get_acc(output, labels)\n",
    "        cur_time = datetime.now()\n",
    "        h,remainder = divmod((cur_time - prev_time).seconds, 3600)\n",
    "        m,s = divmod(remainder, 60)\n",
    "        time_str = 'Time:%02d:%02d:%02d'%(h, m, s)\n",
    "        \n",
    "        test_loss = 0\n",
    "        test_acc = 0\n",
    "        net = net.eval()\n",
    "        for im, labels in test_data:\n",
    "            if torch.cuda.is_available():\n",
    "                im = im.cuda()\n",
    "                labels = labels.cuda()\n",
    "            output = net(im)\n",
    "            loss = criterion(output, labels)\n",
    "            test_loss += loss.data.item()\n",
    "            test_acc += get_acc(output, labels)\n",
    "        epoch_str = (\n",
    "                \"Epoch %d. Train Loss: %f, Train Acc: %f, Valid Loss: %f, Valid Acc: %f, \"\n",
    "                % (epoch, train_loss / len(train_data),\n",
    "                   train_acc / len(train_data), test_loss / len(test_data),\n",
    "                   test_acc / len(test_data)))\n",
    "        prev_time = cur_time\n",
    "        train_losses.append(train_loss / len(train_data))\n",
    "        test_losses.append(test_loss / len(test_data))\n",
    "        print(epoch_str + time_str)"
   ]
  },
  {
   "cell_type": "code",
   "execution_count": 7,
   "metadata": {},
   "outputs": [],
   "source": [
    "net = conv_net()\n",
    "optimizer = torch.optim.Adam(net.parameters(), lr = 0.01)\n",
    "criterion = nn.CrossEntropyLoss()"
   ]
  },
  {
   "cell_type": "code",
   "execution_count": 8,
   "metadata": {},
   "outputs": [],
   "source": [
    "def get_acc(output, label):\n",
    "    total = output.shape[0]\n",
    "    _, pred_label = output.max(1)\n",
    "    num_correct = (pred_label == label).sum().data.item()\n",
    "    return num_correct / total"
   ]
  },
  {
   "cell_type": "code",
   "execution_count": 9,
   "metadata": {},
   "outputs": [
    {
     "name": "stdout",
     "output_type": "stream",
     "text": [
      "Epoch 0. Train Loss: 0.366595, Train Acc: 0.888543, Valid Loss: 0.160965, Valid Acc: 0.952433, Time:00:00:13\n",
      "Epoch 1. Train Loss: 0.180588, Train Acc: 0.946479, Valid Loss: 0.148654, Valid Acc: 0.955004, Time:00:00:14\n",
      "Epoch 2. Train Loss: 0.153448, Train Acc: 0.954458, Valid Loss: 0.139718, Valid Acc: 0.953916, Time:00:00:14\n",
      "Epoch 3. Train Loss: 0.139942, Train Acc: 0.958206, Valid Loss: 0.137114, Valid Acc: 0.959949, Time:00:00:14\n",
      "Epoch 4. Train Loss: 0.133178, Train Acc: 0.959771, Valid Loss: 0.121486, Valid Acc: 0.964102, Time:00:00:14\n",
      "Epoch 5. Train Loss: 0.125181, Train Acc: 0.963136, Valid Loss: 0.121876, Valid Acc: 0.963212, Time:00:00:14\n",
      "Epoch 6. Train Loss: 0.120299, Train Acc: 0.964053, Valid Loss: 0.126054, Valid Acc: 0.962718, Time:00:00:14\n",
      "Epoch 7. Train Loss: 0.115742, Train Acc: 0.965285, Valid Loss: 0.114627, Valid Acc: 0.963805, Time:00:00:14\n",
      "Epoch 8. Train Loss: 0.111039, Train Acc: 0.966301, Valid Loss: 0.131807, Valid Acc: 0.958267, Time:00:00:14\n",
      "Epoch 9. Train Loss: 0.107368, Train Acc: 0.967001, Valid Loss: 0.147416, Valid Acc: 0.952433, Time:00:00:14\n",
      "Epoch 10. Train Loss: 0.106648, Train Acc: 0.967384, Valid Loss: 0.118438, Valid Acc: 0.965585, Time:00:00:14\n",
      "Epoch 11. Train Loss: 0.103824, Train Acc: 0.968700, Valid Loss: 0.142139, Valid Acc: 0.960146, Time:00:00:14\n",
      "Epoch 12. Train Loss: 0.103019, Train Acc: 0.968417, Valid Loss: 0.113047, Valid Acc: 0.968750, Time:00:00:14\n",
      "Epoch 13. Train Loss: 0.098172, Train Acc: 0.970532, Valid Loss: 0.110336, Valid Acc: 0.967761, Time:00:00:14\n",
      "Epoch 14. Train Loss: 0.098348, Train Acc: 0.970466, Valid Loss: 0.105780, Valid Acc: 0.969442, Time:00:00:14\n",
      "Epoch 15. Train Loss: 0.076152, Train Acc: 0.977379, Valid Loss: 0.088917, Valid Acc: 0.973695, Time:00:00:14\n",
      "Epoch 16. Train Loss: 0.073636, Train Acc: 0.977762, Valid Loss: 0.077343, Valid Acc: 0.975475, Time:00:00:14\n",
      "Epoch 17. Train Loss: 0.071011, Train Acc: 0.978661, Valid Loss: 0.079674, Valid Acc: 0.976562, Time:00:00:14\n",
      "Epoch 18. Train Loss: 0.069749, Train Acc: 0.978328, Valid Loss: 0.080803, Valid Acc: 0.974585, Time:00:00:14\n",
      "Epoch 19. Train Loss: 0.071310, Train Acc: 0.979144, Valid Loss: 0.082999, Valid Acc: 0.975771, Time:00:00:14\n",
      "Epoch 20. Train Loss: 0.067980, Train Acc: 0.979394, Valid Loss: 0.082520, Valid Acc: 0.975277, Time:00:00:14\n",
      "Epoch 21. Train Loss: 0.067695, Train Acc: 0.979911, Valid Loss: 0.079425, Valid Acc: 0.976760, Time:00:00:14\n",
      "Epoch 22. Train Loss: 0.068205, Train Acc: 0.979144, Valid Loss: 0.078853, Valid Acc: 0.976760, Time:00:00:14\n",
      "Epoch 23. Train Loss: 0.067293, Train Acc: 0.979827, Valid Loss: 0.083152, Valid Acc: 0.975079, Time:00:00:14\n",
      "Epoch 24. Train Loss: 0.068265, Train Acc: 0.979394, Valid Loss: 0.080007, Valid Acc: 0.976365, Time:00:00:14\n"
     ]
    }
   ],
   "source": [
    "train(net, train_data, test_data, 25, optimizer, criterion)"
   ]
  },
  {
   "cell_type": "code",
   "execution_count": null,
   "metadata": {},
   "outputs": [],
   "source": []
  }
 ],
 "metadata": {
  "kernelspec": {
   "display_name": "Python 3",
   "language": "python",
   "name": "python3"
  },
  "language_info": {
   "codemirror_mode": {
    "name": "ipython",
    "version": 3
   },
   "file_extension": ".py",
   "mimetype": "text/x-python",
   "name": "python",
   "nbconvert_exporter": "python",
   "pygments_lexer": "ipython3",
   "version": "3.6.6"
  }
 },
 "nbformat": 4,
 "nbformat_minor": 2
}
