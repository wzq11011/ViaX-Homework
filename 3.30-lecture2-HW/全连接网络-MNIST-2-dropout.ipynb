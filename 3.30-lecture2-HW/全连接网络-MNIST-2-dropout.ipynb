{
 "cells": [
  {
   "cell_type": "code",
   "execution_count": 1,
   "metadata": {},
   "outputs": [],
   "source": [
    "import torch\n",
    "from torch import nn\n",
    "from torch.utils.data import DataLoader\n",
    "from torchvision.datasets import MNIST\n",
    "import numpy as np"
   ]
  },
  {
   "cell_type": "code",
   "execution_count": 2,
   "metadata": {},
   "outputs": [],
   "source": [
    "def data_tf(x):\n",
    "    x = np.array(x, dtype = 'float32') / 255\n",
    "    x = (x - 0.5) / 0.5\n",
    "    x = x.reshape((-1,))\n",
    "    x = torch.from_numpy(x)\n",
    "    return x"
   ]
  },
  {
   "cell_type": "code",
   "execution_count": 3,
   "metadata": {},
   "outputs": [],
   "source": [
    "train_set = MNIST('./data', train = True, transform = data_tf, download = True)\n",
    "train_data = DataLoader(train_set, batch_size = 64, shuffle = True)\n",
    "test_set = MNIST('./data', train = False, transform = data_tf, download = True)\n",
    "test_data = DataLoader(test_set, batch_size = 128, shuffle = False)"
   ]
  },
  {
   "cell_type": "markdown",
   "metadata": {},
   "source": [
    "模型1：dropout概率为0.3"
   ]
  },
  {
   "cell_type": "code",
   "execution_count": 4,
   "metadata": {},
   "outputs": [],
   "source": [
    "class fully_connected_net(nn.Module):\n",
    "    def __init__(self):\n",
    "        super(fully_connected_net, self).__init__()\n",
    "        self.net = nn.Sequential(\n",
    "                    nn.Linear(784, 400),\n",
    "                    nn.Dropout(0.3),\n",
    "                    nn.ReLU(),\n",
    "                    nn.Linear(400, 200),\n",
    "                    nn.Dropout(0.3),\n",
    "                    nn.ReLU(),\n",
    "                    nn.Linear(200, 100),\n",
    "                    nn.Dropout(0.3),\n",
    "                    nn.ReLU(),\n",
    "                    nn.Linear(100, 10))\n",
    "    \n",
    "    def forward(self,x):\n",
    "        x = self.net(x)\n",
    "        return x"
   ]
  },
  {
   "cell_type": "code",
   "execution_count": 5,
   "metadata": {},
   "outputs": [],
   "source": [
    "from utils import train"
   ]
  },
  {
   "cell_type": "code",
   "execution_count": 7,
   "metadata": {},
   "outputs": [
    {
     "name": "stderr",
     "output_type": "stream",
     "text": [
      "/input/utils.py:52: UserWarning: volatile was removed and now has no effect. Use `with torch.no_grad():` instead.\n",
      "  im = Variable(im.cuda(), volatile=True)\n",
      "/input/utils.py:53: UserWarning: volatile was removed and now has no effect. Use `with torch.no_grad():` instead.\n",
      "  label = Variable(label.cuda(), volatile=True)\n"
     ]
    },
    {
     "name": "stdout",
     "output_type": "stream",
     "text": [
      "Epoch 0. Train Loss: 0.827303, Train Acc: 0.737640, Valid Loss: 0.319449, Valid Acc: 0.906646, Time 00:00:04\n",
      "Epoch 1. Train Loss: 0.371054, Train Acc: 0.889825, Valid Loss: 0.234271, Valid Acc: 0.928797, Time 00:00:04\n",
      "Epoch 2. Train Loss: 0.283094, Train Acc: 0.916844, Valid Loss: 0.186169, Valid Acc: 0.943038, Time 00:00:04\n",
      "Epoch 3. Train Loss: 0.232137, Train Acc: 0.931936, Valid Loss: 0.151701, Valid Acc: 0.954213, Time 00:00:04\n",
      "Epoch 4. Train Loss: 0.197993, Train Acc: 0.942647, Valid Loss: 0.135480, Valid Acc: 0.957773, Time 00:00:04\n",
      "Epoch 5. Train Loss: 0.170562, Train Acc: 0.950227, Valid Loss: 0.120730, Valid Acc: 0.963311, Time 00:00:04\n",
      "Epoch 6. Train Loss: 0.152959, Train Acc: 0.954358, Valid Loss: 0.107684, Valid Acc: 0.964695, Time 00:00:04\n",
      "Epoch 7. Train Loss: 0.140504, Train Acc: 0.958372, Valid Loss: 0.098130, Valid Acc: 0.969541, Time 00:00:04\n",
      "Epoch 8. Train Loss: 0.126796, Train Acc: 0.962953, Valid Loss: 0.095044, Valid Acc: 0.970926, Time 00:00:04\n",
      "Epoch 9. Train Loss: 0.119236, Train Acc: 0.964985, Valid Loss: 0.087202, Valid Acc: 0.972310, Time 00:00:04\n"
     ]
    }
   ],
   "source": [
    "net1 = fully_connected_net()\n",
    "optimizer = torch.optim.Adam(net1.parameters(), lr = 0.0001)\n",
    "criterion = nn.CrossEntropyLoss()\n",
    "train(net1, train_data, test_data, 10, optimizer, criterion)"
   ]
  },
  {
   "cell_type": "markdown",
   "metadata": {},
   "source": [
    "模型2：dropout为0.4"
   ]
  },
  {
   "cell_type": "code",
   "execution_count": 8,
   "metadata": {},
   "outputs": [],
   "source": [
    "class fully_connected_net(nn.Module):\n",
    "    def __init__(self):\n",
    "        super(fully_connected_net, self).__init__()\n",
    "        self.net = nn.Sequential(\n",
    "                    nn.Linear(784, 400),\n",
    "                    nn.Dropout(0.4),\n",
    "                    nn.ReLU(),\n",
    "                    nn.Linear(400, 200),\n",
    "                    nn.Dropout(0.4),\n",
    "                    nn.ReLU(),\n",
    "                    nn.Linear(200, 100),\n",
    "                    nn.Dropout(0.4),\n",
    "                    nn.ReLU(),\n",
    "                    nn.Linear(100, 10))\n",
    "    \n",
    "    def forward(self,x):\n",
    "        x = self.net(x)\n",
    "        return x"
   ]
  },
  {
   "cell_type": "code",
   "execution_count": 9,
   "metadata": {},
   "outputs": [
    {
     "name": "stdout",
     "output_type": "stream",
     "text": [
      "Epoch 0. Train Loss: 0.962188, Train Acc: 0.686734, Valid Loss: 0.341157, Valid Acc: 0.902690, Time 00:00:04\n",
      "Epoch 1. Train Loss: 0.427077, Train Acc: 0.874684, Valid Loss: 0.252878, Valid Acc: 0.923259, Time 00:00:04\n",
      "Epoch 2. Train Loss: 0.326918, Train Acc: 0.906683, Valid Loss: 0.195961, Valid Acc: 0.939181, Time 00:00:04\n",
      "Epoch 3. Train Loss: 0.268888, Train Acc: 0.922158, Valid Loss: 0.169280, Valid Acc: 0.946796, Time 00:00:04\n",
      "Epoch 4. Train Loss: 0.232989, Train Acc: 0.933302, Valid Loss: 0.145839, Valid Acc: 0.955301, Time 00:00:04\n",
      "Epoch 5. Train Loss: 0.202869, Train Acc: 0.941131, Valid Loss: 0.135929, Valid Acc: 0.959157, Time 00:00:04\n",
      "Epoch 6. Train Loss: 0.185291, Train Acc: 0.947078, Valid Loss: 0.130295, Valid Acc: 0.960047, Time 00:00:04\n",
      "Epoch 7. Train Loss: 0.167174, Train Acc: 0.951876, Valid Loss: 0.114965, Valid Acc: 0.964597, Time 00:00:04\n",
      "Epoch 8. Train Loss: 0.156884, Train Acc: 0.955157, Valid Loss: 0.109045, Valid Acc: 0.968157, Time 00:00:04\n",
      "Epoch 9. Train Loss: 0.144791, Train Acc: 0.958156, Valid Loss: 0.097961, Valid Acc: 0.970926, Time 00:00:04\n"
     ]
    }
   ],
   "source": [
    "net2 = fully_connected_net()\n",
    "optimizer = torch.optim.Adam(net2.parameters(), lr = 0.0001)\n",
    "train(net2, train_data, test_data, 10, optimizer, criterion)"
   ]
  },
  {
   "cell_type": "markdown",
   "metadata": {},
   "source": [
    "模型3：dropout为0.5"
   ]
  },
  {
   "cell_type": "code",
   "execution_count": 11,
   "metadata": {},
   "outputs": [],
   "source": [
    "class fully_connected_net(nn.Module):\n",
    "    def __init__(self):\n",
    "        super(fully_connected_net, self).__init__()\n",
    "        self.net = nn.Sequential(\n",
    "                    nn.Linear(784, 400),\n",
    "                    nn.Dropout(0.5),\n",
    "                    nn.ReLU(),\n",
    "                    nn.Linear(400, 200),\n",
    "                    nn.Dropout(0.5),\n",
    "                    nn.ReLU(),\n",
    "                    nn.Linear(200, 100),\n",
    "                    nn.Dropout(0.5),\n",
    "                    nn.ReLU(),\n",
    "                    nn.Linear(100, 10))\n",
    "    \n",
    "    def forward(self,x):\n",
    "        x = self.net(x)\n",
    "        return x"
   ]
  },
  {
   "cell_type": "code",
   "execution_count": 12,
   "metadata": {},
   "outputs": [
    {
     "name": "stdout",
     "output_type": "stream",
     "text": [
      "Epoch 0. Train Loss: 1.172487, Train Acc: 0.606976, Valid Loss: 0.389033, Valid Acc: 0.892405, Time 00:00:04\n",
      "Epoch 1. Train Loss: 0.521554, Train Acc: 0.846415, Valid Loss: 0.277861, Valid Acc: 0.916139, Time 00:00:04\n",
      "Epoch 2. Train Loss: 0.400159, Train Acc: 0.883679, Valid Loss: 0.220537, Valid Acc: 0.933841, Time 00:00:04\n",
      "Epoch 3. Train Loss: 0.331449, Train Acc: 0.906333, Valid Loss: 0.189291, Valid Acc: 0.943631, Time 00:00:04\n",
      "Epoch 4. Train Loss: 0.287824, Train Acc: 0.919460, Valid Loss: 0.168209, Valid Acc: 0.949466, Time 00:00:04\n",
      "Epoch 5. Train Loss: 0.256520, Train Acc: 0.928721, Valid Loss: 0.152257, Valid Acc: 0.951543, Time 00:00:04\n",
      "Epoch 6. Train Loss: 0.235024, Train Acc: 0.935818, Valid Loss: 0.138344, Valid Acc: 0.957674, Time 00:00:04\n",
      "Epoch 7. Train Loss: 0.213263, Train Acc: 0.941898, Valid Loss: 0.129674, Valid Acc: 0.960443, Time 00:00:04\n",
      "Epoch 8. Train Loss: 0.199891, Train Acc: 0.945013, Valid Loss: 0.119735, Valid Acc: 0.964300, Time 00:00:04\n",
      "Epoch 9. Train Loss: 0.188589, Train Acc: 0.947678, Valid Loss: 0.116073, Valid Acc: 0.964794, Time 00:00:04\n"
     ]
    }
   ],
   "source": [
    "net3 = fully_connected_net()\n",
    "optimizer = torch.optim.Adam(net3.parameters(), lr = 0.0001)\n",
    "train(net3, train_data, test_data, 10, optimizer, criterion)"
   ]
  },
  {
   "cell_type": "markdown",
   "metadata": {},
   "source": [
    "模型4：dropout为0.6"
   ]
  },
  {
   "cell_type": "code",
   "execution_count": 13,
   "metadata": {},
   "outputs": [],
   "source": [
    "class fully_connected_net(nn.Module):\n",
    "    def __init__(self):\n",
    "        super(fully_connected_net, self).__init__()\n",
    "        self.net = nn.Sequential(\n",
    "                    nn.Linear(784, 400),\n",
    "                    nn.Dropout(0.5),\n",
    "                    nn.ReLU(),\n",
    "                    nn.Linear(400, 200),\n",
    "                    nn.Dropout(0.5),\n",
    "                    nn.ReLU(),\n",
    "                    nn.Linear(200, 100),\n",
    "                    nn.Dropout(0.5),\n",
    "                    nn.ReLU(),\n",
    "                    nn.Linear(100, 10))\n",
    "    \n",
    "    def forward(self,x):\n",
    "        x = self.net(x)\n",
    "        return x"
   ]
  },
  {
   "cell_type": "code",
   "execution_count": 14,
   "metadata": {},
   "outputs": [
    {
     "name": "stdout",
     "output_type": "stream",
     "text": [
      "Epoch 0. Train Loss: 1.184005, Train Acc: 0.601879, Valid Loss: 0.385515, Valid Acc: 0.889438, Time 00:00:04\n",
      "Epoch 1. Train Loss: 0.517536, Train Acc: 0.845716, Valid Loss: 0.279152, Valid Acc: 0.918710, Time 00:00:04\n",
      "Epoch 2. Train Loss: 0.390800, Train Acc: 0.888609, Valid Loss: 0.224987, Valid Acc: 0.933347, Time 00:00:04\n",
      "Epoch 3. Train Loss: 0.329825, Train Acc: 0.907066, Valid Loss: 0.190025, Valid Acc: 0.944917, Time 00:00:04\n",
      "Epoch 4. Train Loss: 0.286385, Train Acc: 0.920642, Valid Loss: 0.167125, Valid Acc: 0.952037, Time 00:00:04\n",
      "Epoch 5. Train Loss: 0.257576, Train Acc: 0.928238, Valid Loss: 0.153437, Valid Acc: 0.953817, Time 00:00:04\n",
      "Epoch 6. Train Loss: 0.230281, Train Acc: 0.936501, Valid Loss: 0.138030, Valid Acc: 0.958663, Time 00:00:04\n",
      "Epoch 7. Train Loss: 0.213308, Train Acc: 0.941498, Valid Loss: 0.126582, Valid Acc: 0.962619, Time 00:00:04\n",
      "Epoch 8. Train Loss: 0.201208, Train Acc: 0.944513, Valid Loss: 0.124533, Valid Acc: 0.961630, Time 00:00:04\n",
      "Epoch 9. Train Loss: 0.186763, Train Acc: 0.948278, Valid Loss: 0.118971, Valid Acc: 0.965091, Time 00:00:04\n"
     ]
    }
   ],
   "source": [
    "net4 = fully_connected_net()\n",
    "optimizer = torch.optim.Adam(net4.parameters(), lr = 0.0001)\n",
    "train(net4, train_data, test_data, 10, optimizer, criterion)"
   ]
  },
  {
   "cell_type": "code",
   "execution_count": null,
   "metadata": {},
   "outputs": [],
   "source": []
  }
 ],
 "metadata": {
  "kernelspec": {
   "display_name": "Python 3",
   "language": "python",
   "name": "python3"
  },
  "language_info": {
   "codemirror_mode": {
    "name": "ipython",
    "version": 3
   },
   "file_extension": ".py",
   "mimetype": "text/x-python",
   "name": "python",
   "nbconvert_exporter": "python",
   "pygments_lexer": "ipython3",
   "version": "3.6.6"
  }
 },
 "nbformat": 4,
 "nbformat_minor": 2
}
