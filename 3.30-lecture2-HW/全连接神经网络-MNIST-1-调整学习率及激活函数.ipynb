{
 "cells": [
  {
   "cell_type": "code",
   "execution_count": 1,
   "metadata": {},
   "outputs": [],
   "source": [
    "import torch\n",
    "from torch import nn\n",
    "from torch.utils.data import DataLoader\n",
    "from torchvision.datasets import MNIST\n",
    "import numpy as np"
   ]
  },
  {
   "cell_type": "code",
   "execution_count": 2,
   "metadata": {},
   "outputs": [],
   "source": [
    "def data_tf(x):\n",
    "    x = np.array(x, dtype = 'float32') / 255\n",
    "    x = (x - 0.5) / 0.5\n",
    "    x = x.reshape((-1,))\n",
    "    x = torch.from_numpy(x)\n",
    "    return x"
   ]
  },
  {
   "cell_type": "markdown",
   "metadata": {},
   "source": [
    "模型结构1：四层网络，第一层节点数为400， 第二层节点数为200，第三层为100， 第四层为10，激活函数为ReLU"
   ]
  },
  {
   "cell_type": "code",
   "execution_count": 3,
   "metadata": {},
   "outputs": [],
   "source": [
    "class fully_connected_net(nn.Module):\n",
    "    def __init__(self):\n",
    "        super(fully_connected_net, self).__init__()\n",
    "        self.net = nn.Sequential(\n",
    "                    nn.Linear(784, 400),\n",
    "                    nn.ReLU(),\n",
    "                    nn.Linear(400, 200),\n",
    "                    nn.ReLU(),\n",
    "                    nn.Linear(200, 100),\n",
    "                    nn.ReLU(),\n",
    "                    nn.Linear(100, 10))\n",
    "    \n",
    "    def forward(self,x):\n",
    "        x = self.net(x)\n",
    "        return x"
   ]
  },
  {
   "cell_type": "code",
   "execution_count": 4,
   "metadata": {},
   "outputs": [
    {
     "name": "stdout",
     "output_type": "stream",
     "text": [
      "Downloading http://yann.lecun.com/exdb/mnist/train-images-idx3-ubyte.gz\n",
      "Downloading http://yann.lecun.com/exdb/mnist/train-labels-idx1-ubyte.gz\n",
      "Downloading http://yann.lecun.com/exdb/mnist/t10k-images-idx3-ubyte.gz\n",
      "Downloading http://yann.lecun.com/exdb/mnist/t10k-labels-idx1-ubyte.gz\n",
      "Processing...\n",
      "Done!\n"
     ]
    }
   ],
   "source": [
    "train_set = MNIST('./data', train = True, transform = data_tf, download = True)\n",
    "train_data = DataLoader(train_set, batch_size = 64, shuffle = True)\n",
    "test_set = MNIST('./data', train = False, transform = data_tf, download = True)\n",
    "test_data = DataLoader(test_set, batch_size = 128, shuffle = False)"
   ]
  },
  {
   "cell_type": "markdown",
   "metadata": {},
   "source": [
    "模型一：学习率为1"
   ]
  },
  {
   "cell_type": "code",
   "execution_count": 5,
   "metadata": {},
   "outputs": [],
   "source": [
    "net1 = fully_connected_net()"
   ]
  },
  {
   "cell_type": "code",
   "execution_count": 6,
   "metadata": {},
   "outputs": [],
   "source": [
    "optimizer = torch.optim.Adam(net1.parameters(), lr = 1)\n",
    "criterion = nn.CrossEntropyLoss()"
   ]
  },
  {
   "cell_type": "code",
   "execution_count": 7,
   "metadata": {},
   "outputs": [],
   "source": [
    "from utils import train"
   ]
  },
  {
   "cell_type": "code",
   "execution_count": 9,
   "metadata": {},
   "outputs": [
    {
     "name": "stderr",
     "output_type": "stream",
     "text": [
      "/input/utils.py:52: UserWarning: volatile was removed and now has no effect. Use `with torch.no_grad():` instead.\n",
      "  im = Variable(im.cuda(), volatile=True)\n",
      "/input/utils.py:53: UserWarning: volatile was removed and now has no effect. Use `with torch.no_grad():` instead.\n",
      "  label = Variable(label.cuda(), volatile=True)\n"
     ]
    },
    {
     "name": "stdout",
     "output_type": "stream",
     "text": [
      "Epoch 0. Train Loss: 49706.566817, Train Acc: 0.102329, Valid Loss: 2.372075, Valid Acc: 0.097607, Time 00:00:05\n",
      "Epoch 1. Train Loss: 2.376798, Train Acc: 0.103178, Valid Loss: 2.332879, Valid Acc: 0.098497, Time 00:00:04\n",
      "Epoch 2. Train Loss: 2.368926, Train Acc: 0.098214, Valid Loss: 2.342133, Valid Acc: 0.089597, Time 00:00:04\n",
      "Epoch 3. Train Loss: 2.371762, Train Acc: 0.102529, Valid Loss: 2.384316, Valid Acc: 0.097607, Time 00:00:04\n",
      "Epoch 4. Train Loss: 2.366696, Train Acc: 0.101196, Valid Loss: 2.333062, Valid Acc: 0.102354, Time 00:00:04\n",
      "Epoch 5. Train Loss: 2.375704, Train Acc: 0.102079, Valid Loss: 2.350026, Valid Acc: 0.097607, Time 00:00:04\n",
      "Epoch 6. Train Loss: 2.373627, Train Acc: 0.101179, Valid Loss: 2.396541, Valid Acc: 0.103441, Time 00:00:04\n",
      "Epoch 7. Train Loss: 2.368611, Train Acc: 0.103262, Valid Loss: 2.344136, Valid Acc: 0.100475, Time 00:00:04\n",
      "Epoch 8. Train Loss: 2.372297, Train Acc: 0.101846, Valid Loss: 2.327541, Valid Acc: 0.113627, Time 00:00:04\n",
      "Epoch 9. Train Loss: 2.373470, Train Acc: 0.098764, Valid Loss: 2.369818, Valid Acc: 0.089597, Time 00:00:04\n"
     ]
    }
   ],
   "source": [
    "train(net1, train_data, test_data, 10, optimizer, criterion)"
   ]
  },
  {
   "cell_type": "markdown",
   "metadata": {},
   "source": [
    "模型二：学习率为0.1"
   ]
  },
  {
   "cell_type": "code",
   "execution_count": 10,
   "metadata": {},
   "outputs": [],
   "source": [
    "net2 = fully_connected_net()\n",
    "optimizer = torch.optim.Adam(net2.parameters(), lr = 0.1)\n",
    "criterion = nn.CrossEntropyLoss()"
   ]
  },
  {
   "cell_type": "code",
   "execution_count": 11,
   "metadata": {},
   "outputs": [
    {
     "name": "stdout",
     "output_type": "stream",
     "text": [
      "Epoch 0. Train Loss: 9.508423, Train Acc: 0.103661, Valid Loss: 2.306468, Valid Acc: 0.096123, Time 00:00:04\n",
      "Epoch 1. Train Loss: 2.310024, Train Acc: 0.105644, Valid Loss: 2.309366, Valid Acc: 0.102354, Time 00:00:04\n",
      "Epoch 2. Train Loss: 2.309260, Train Acc: 0.104278, Valid Loss: 2.305565, Valid Acc: 0.113627, Time 00:00:04\n",
      "Epoch 3. Train Loss: 2.310375, Train Acc: 0.104011, Valid Loss: 2.308749, Valid Acc: 0.113627, Time 00:00:04\n",
      "Epoch 4. Train Loss: 2.310692, Train Acc: 0.100730, Valid Loss: 2.310736, Valid Acc: 0.102354, Time 00:00:04\n",
      "Epoch 5. Train Loss: 2.310718, Train Acc: 0.103928, Valid Loss: 2.303974, Valid Acc: 0.103441, Time 00:00:04\n",
      "Epoch 6. Train Loss: 2.311246, Train Acc: 0.102329, Valid Loss: 2.309080, Valid Acc: 0.100475, Time 00:00:04\n",
      "Epoch 7. Train Loss: 2.309630, Train Acc: 0.102195, Valid Loss: 2.306148, Valid Acc: 0.113627, Time 00:00:04\n",
      "Epoch 8. Train Loss: 2.309534, Train Acc: 0.104444, Valid Loss: 2.323420, Valid Acc: 0.098497, Time 00:00:04\n",
      "Epoch 9. Train Loss: 2.310035, Train Acc: 0.103212, Valid Loss: 2.306259, Valid Acc: 0.113627, Time 00:00:04\n"
     ]
    }
   ],
   "source": [
    "train(net2, train_data, test_data, 10, optimizer, criterion)"
   ]
  },
  {
   "cell_type": "markdown",
   "metadata": {},
   "source": [
    "模型三:学习率为0.01"
   ]
  },
  {
   "cell_type": "code",
   "execution_count": 13,
   "metadata": {},
   "outputs": [],
   "source": [
    "net3 = fully_connected_net()\n",
    "optimizer = torch.optim.Adam(net3.parameters(), lr = 0.01)\n",
    "criterion = nn.CrossEntropyLoss()"
   ]
  },
  {
   "cell_type": "code",
   "execution_count": 14,
   "metadata": {},
   "outputs": [
    {
     "name": "stdout",
     "output_type": "stream",
     "text": [
      "Epoch 0. Train Loss: 0.435438, Train Acc: 0.864905, Valid Loss: 0.327822, Valid Acc: 0.906151, Time 00:00:04\n",
      "Epoch 1. Train Loss: 0.283624, Train Acc: 0.920442, Valid Loss: 0.270215, Valid Acc: 0.924347, Time 00:00:04\n",
      "Epoch 2. Train Loss: 0.261344, Train Acc: 0.926972, Valid Loss: 0.245268, Valid Acc: 0.933742, Time 00:00:04\n",
      "Epoch 3. Train Loss: 0.241997, Train Acc: 0.933852, Valid Loss: 0.223573, Valid Acc: 0.942148, Time 00:00:04\n",
      "Epoch 4. Train Loss: 0.229044, Train Acc: 0.938333, Valid Loss: 0.341495, Valid Acc: 0.910799, Time 00:00:04\n",
      "Epoch 5. Train Loss: 0.231117, Train Acc: 0.939249, Valid Loss: 0.207330, Valid Acc: 0.949367, Time 00:00:04\n",
      "Epoch 6. Train Loss: 0.214822, Train Acc: 0.942897, Valid Loss: 0.257446, Valid Acc: 0.935918, Time 00:00:04\n",
      "Epoch 7. Train Loss: 0.239369, Train Acc: 0.937450, Valid Loss: 0.224413, Valid Acc: 0.939082, Time 00:00:04\n",
      "Epoch 8. Train Loss: 0.206444, Train Acc: 0.945213, Valid Loss: 0.229660, Valid Acc: 0.948081, Time 00:00:04\n",
      "Epoch 9. Train Loss: 0.211970, Train Acc: 0.945945, Valid Loss: 0.230046, Valid Acc: 0.945214, Time 00:00:04\n"
     ]
    }
   ],
   "source": [
    "train(net3, train_data, test_data, 10, optimizer, criterion)"
   ]
  },
  {
   "cell_type": "markdown",
   "metadata": {},
   "source": [
    "模型4：学习率为0.001"
   ]
  },
  {
   "cell_type": "code",
   "execution_count": 15,
   "metadata": {},
   "outputs": [
    {
     "name": "stdout",
     "output_type": "stream",
     "text": [
      "Epoch 0. Train Loss: 0.340599, Train Acc: 0.893657, Valid Loss: 0.180977, Valid Acc: 0.943137, Time 00:00:04\n",
      "Epoch 1. Train Loss: 0.151385, Train Acc: 0.952525, Valid Loss: 0.123630, Valid Acc: 0.960542, Time 00:00:04\n",
      "Epoch 2. Train Loss: 0.110178, Train Acc: 0.965652, Valid Loss: 0.086689, Valid Acc: 0.970827, Time 00:00:04\n",
      "Epoch 3. Train Loss: 0.090675, Train Acc: 0.971615, Valid Loss: 0.082719, Valid Acc: 0.973002, Time 00:00:04\n",
      "Epoch 4. Train Loss: 0.075372, Train Acc: 0.975480, Valid Loss: 0.091074, Valid Acc: 0.971222, Time 00:00:04\n",
      "Epoch 5. Train Loss: 0.068448, Train Acc: 0.978312, Valid Loss: 0.071131, Valid Acc: 0.977354, Time 00:00:04\n",
      "Epoch 6. Train Loss: 0.061385, Train Acc: 0.980227, Valid Loss: 0.074922, Valid Acc: 0.976266, Time 00:00:04\n",
      "Epoch 7. Train Loss: 0.053590, Train Acc: 0.982259, Valid Loss: 0.093426, Valid Acc: 0.972508, Time 00:00:04\n",
      "Epoch 8. Train Loss: 0.047410, Train Acc: 0.984442, Valid Loss: 0.077513, Valid Acc: 0.977156, Time 00:00:04\n",
      "Epoch 9. Train Loss: 0.044424, Train Acc: 0.985491, Valid Loss: 0.075176, Valid Acc: 0.977947, Time 00:00:04\n"
     ]
    }
   ],
   "source": [
    "net4 = fully_connected_net()\n",
    "optimizer = torch.optim.Adam(net4.parameters(), lr = 0.001)\n",
    "train(net4, train_data, test_data, 10, optimizer, criterion)"
   ]
  },
  {
   "cell_type": "markdown",
   "metadata": {},
   "source": [
    "模型五：学习率为0.0001"
   ]
  },
  {
   "cell_type": "code",
   "execution_count": 18,
   "metadata": {},
   "outputs": [
    {
     "name": "stdout",
     "output_type": "stream",
     "text": [
      "Epoch 0. Train Loss: 0.628817, Train Acc: 0.824127, Valid Loss: 0.312637, Valid Acc: 0.907041, Time 00:00:04\n",
      "Epoch 1. Train Loss: 0.290478, Train Acc: 0.913529, Valid Loss: 0.242487, Valid Acc: 0.929292, Time 00:00:04\n",
      "Epoch 2. Train Loss: 0.229130, Train Acc: 0.932436, Valid Loss: 0.193852, Valid Acc: 0.942148, Time 00:00:04\n",
      "Epoch 3. Train Loss: 0.187200, Train Acc: 0.944596, Valid Loss: 0.166717, Valid Acc: 0.948873, Time 00:00:04\n",
      "Epoch 4. Train Loss: 0.157199, Train Acc: 0.953408, Valid Loss: 0.147358, Valid Acc: 0.956290, Time 00:00:04\n",
      "Epoch 5. Train Loss: 0.134502, Train Acc: 0.959838, Valid Loss: 0.129558, Valid Acc: 0.961135, Time 00:00:04\n",
      "Epoch 6. Train Loss: 0.116464, Train Acc: 0.965468, Valid Loss: 0.116170, Valid Acc: 0.966080, Time 00:00:04\n",
      "Epoch 7. Train Loss: 0.101151, Train Acc: 0.969516, Valid Loss: 0.111294, Valid Acc: 0.966673, Time 00:00:04\n",
      "Epoch 8. Train Loss: 0.089611, Train Acc: 0.973414, Valid Loss: 0.105245, Valid Acc: 0.967761, Time 00:00:04\n",
      "Epoch 9. Train Loss: 0.079529, Train Acc: 0.976096, Valid Loss: 0.091084, Valid Acc: 0.971816, Time 00:00:04\n"
     ]
    }
   ],
   "source": [
    "net5 = fully_connected_net()\n",
    "optimizer = torch.optim.Adam(net5.parameters(), lr = 0.0001)\n",
    "train(net5, train_data, test_data, 10, optimizer, criterion)"
   ]
  },
  {
   "cell_type": "markdown",
   "metadata": {},
   "source": [
    "模型结构2：四层网络，第一层节点数为400， 第二层节点数为200，第三层为100， 第四层为10，激活函数为sigmoid"
   ]
  },
  {
   "cell_type": "code",
   "execution_count": 19,
   "metadata": {},
   "outputs": [],
   "source": [
    "class fully_connected_net2(nn.Module):\n",
    "    def __init__(self):\n",
    "        super(fully_connected_net2, self).__init__()\n",
    "        self.net = nn.Sequential(\n",
    "                    nn.Linear(784, 400),\n",
    "                    nn.Sigmoid(),\n",
    "                    nn.Linear(400, 200),\n",
    "                    nn.Sigmoid(),\n",
    "                    nn.Linear(200, 100),\n",
    "                    nn.Sigmoid(),\n",
    "                    nn.Linear(100, 10))\n",
    "    \n",
    "    def forward(self,x):\n",
    "        x = self.net(x)\n",
    "        return x"
   ]
  },
  {
   "cell_type": "markdown",
   "metadata": {},
   "source": [
    "模型6：学习率为1"
   ]
  },
  {
   "cell_type": "code",
   "execution_count": 20,
   "metadata": {},
   "outputs": [
    {
     "name": "stderr",
     "output_type": "stream",
     "text": [
      "/input/utils.py:52: UserWarning: volatile was removed and now has no effect. Use `with torch.no_grad():` instead.\n",
      "  im = Variable(im.cuda(), volatile=True)\n",
      "/input/utils.py:53: UserWarning: volatile was removed and now has no effect. Use `with torch.no_grad():` instead.\n",
      "  label = Variable(label.cuda(), volatile=True)\n"
     ]
    },
    {
     "name": "stdout",
     "output_type": "stream",
     "text": [
      "Epoch 0. Train Loss: 18.772525, Train Acc: 0.101046, Valid Loss: 18.770604, Valid Acc: 0.089597, Time 00:00:04\n",
      "Epoch 1. Train Loss: 19.341444, Train Acc: 0.098947, Valid Loss: 10.088756, Valid Acc: 0.113627, Time 00:00:04\n",
      "Epoch 2. Train Loss: 17.668905, Train Acc: 0.101346, Valid Loss: 14.364873, Valid Acc: 0.089597, Time 00:00:04\n",
      "Epoch 3. Train Loss: 17.594432, Train Acc: 0.101762, Valid Loss: 12.344130, Valid Acc: 0.096123, Time 00:00:04\n",
      "Epoch 4. Train Loss: 17.285238, Train Acc: 0.101313, Valid Loss: 14.385300, Valid Acc: 0.101266, Time 00:00:04\n",
      "Epoch 5. Train Loss: 17.345105, Train Acc: 0.099863, Valid Loss: 16.955190, Valid Acc: 0.096123, Time 00:00:04\n",
      "Epoch 6. Train Loss: 17.182699, Train Acc: 0.101679, Valid Loss: 20.666635, Valid Acc: 0.097607, Time 00:00:04\n",
      "Epoch 7. Train Loss: 17.782344, Train Acc: 0.099130, Valid Loss: 15.371408, Valid Acc: 0.102354, Time 00:00:04\n",
      "Epoch 8. Train Loss: 17.805083, Train Acc: 0.102079, Valid Loss: 20.580665, Valid Acc: 0.100475, Time 00:00:04\n",
      "Epoch 9. Train Loss: 17.452054, Train Acc: 0.101929, Valid Loss: 13.990806, Valid Acc: 0.097013, Time 00:00:04\n"
     ]
    }
   ],
   "source": [
    "net6 = fully_connected_net2()\n",
    "optimizer = torch.optim.Adam(net6.parameters(),lr = 1)\n",
    "train(net6, train_data, test_data, 10, optimizer, criterion)"
   ]
  },
  {
   "cell_type": "markdown",
   "metadata": {},
   "source": [
    "模型7：学习率为0.1"
   ]
  },
  {
   "cell_type": "code",
   "execution_count": 23,
   "metadata": {},
   "outputs": [
    {
     "name": "stdout",
     "output_type": "stream",
     "text": [
      "Epoch 0. Train Loss: 2.527158, Train Acc: 0.099664, Valid Loss: 2.577954, Valid Acc: 0.097607, Time 00:00:04\n",
      "Epoch 1. Train Loss: 2.506972, Train Acc: 0.100280, Valid Loss: 2.456131, Valid Acc: 0.089597, Time 00:00:04\n",
      "Epoch 2. Train Loss: 2.511427, Train Acc: 0.099597, Valid Loss: 2.702912, Valid Acc: 0.097607, Time 00:00:04\n",
      "Epoch 3. Train Loss: 2.516623, Train Acc: 0.099480, Valid Loss: 2.418062, Valid Acc: 0.102354, Time 00:00:04\n",
      "Epoch 4. Train Loss: 2.513205, Train Acc: 0.099214, Valid Loss: 2.647204, Valid Acc: 0.103441, Time 00:00:04\n",
      "Epoch 5. Train Loss: 2.512803, Train Acc: 0.103078, Valid Loss: 2.535884, Valid Acc: 0.098497, Time 00:00:04\n",
      "Epoch 6. Train Loss: 2.517434, Train Acc: 0.100946, Valid Loss: 2.516447, Valid Acc: 0.101266, Time 00:00:04\n",
      "Epoch 7. Train Loss: 2.500257, Train Acc: 0.101896, Valid Loss: 2.525175, Valid Acc: 0.098497, Time 00:00:04\n",
      "Epoch 8. Train Loss: 2.518199, Train Acc: 0.101513, Valid Loss: 2.637472, Valid Acc: 0.098497, Time 00:00:04\n",
      "Epoch 9. Train Loss: 2.505164, Train Acc: 0.102062, Valid Loss: 2.511048, Valid Acc: 0.100475, Time 00:00:04\n"
     ]
    }
   ],
   "source": [
    "net7 = fully_connected_net2()\n",
    "optimizer = torch.optim.Adam(net7.parameters(), lr = 0.1)\n",
    "train(net7, train_data, test_data, 10, optimizer, criterion)"
   ]
  },
  {
   "cell_type": "markdown",
   "metadata": {},
   "source": [
    "模型8：学习率为0.01"
   ]
  },
  {
   "cell_type": "code",
   "execution_count": 24,
   "metadata": {},
   "outputs": [
    {
     "name": "stdout",
     "output_type": "stream",
     "text": [
      "Epoch 0. Train Loss: 2.335688, Train Acc: 0.099130, Valid Loss: 2.335578, Valid Acc: 0.100475, Time 00:00:04\n",
      "Epoch 1. Train Loss: 2.335663, Train Acc: 0.099147, Valid Loss: 2.335578, Valid Acc: 0.100475, Time 00:00:04\n",
      "Epoch 2. Train Loss: 2.335663, Train Acc: 0.099164, Valid Loss: 2.335578, Valid Acc: 0.100475, Time 00:00:04\n",
      "Epoch 3. Train Loss: 2.335639, Train Acc: 0.099147, Valid Loss: 2.335578, Valid Acc: 0.100475, Time 00:00:04\n",
      "Epoch 4. Train Loss: 2.335662, Train Acc: 0.099114, Valid Loss: 2.335578, Valid Acc: 0.100475, Time 00:00:04\n",
      "Epoch 5. Train Loss: 2.335689, Train Acc: 0.099147, Valid Loss: 2.335578, Valid Acc: 0.100475, Time 00:00:04\n",
      "Epoch 6. Train Loss: 2.335687, Train Acc: 0.099114, Valid Loss: 2.335578, Valid Acc: 0.100475, Time 00:00:04\n",
      "Epoch 7. Train Loss: 2.335636, Train Acc: 0.099197, Valid Loss: 2.335578, Valid Acc: 0.100475, Time 00:00:04\n",
      "Epoch 8. Train Loss: 2.335714, Train Acc: 0.099130, Valid Loss: 2.335578, Valid Acc: 0.100475, Time 00:00:04\n",
      "Epoch 9. Train Loss: 2.335670, Train Acc: 0.099147, Valid Loss: 2.335578, Valid Acc: 0.100475, Time 00:00:04\n"
     ]
    }
   ],
   "source": [
    "net8 = fully_connected_net2()\n",
    "optimizer = torch.optim.Adam(net7.parameters(), lr = 0.01)\n",
    "train(net8, train_data, test_data, 10, optimizer, criterion)"
   ]
  },
  {
   "cell_type": "markdown",
   "metadata": {},
   "source": [
    "模型9：学习率为0.001"
   ]
  },
  {
   "cell_type": "code",
   "execution_count": 25,
   "metadata": {},
   "outputs": [
    {
     "name": "stdout",
     "output_type": "stream",
     "text": [
      "Epoch 0. Train Loss: 0.584730, Train Acc: 0.835471, Valid Loss: 0.204542, Valid Acc: 0.941060, Time 00:00:04\n",
      "Epoch 1. Train Loss: 0.175133, Train Acc: 0.948644, Valid Loss: 0.143517, Valid Acc: 0.959850, Time 00:00:04\n",
      "Epoch 2. Train Loss: 0.123577, Train Acc: 0.963953, Valid Loss: 0.111221, Valid Acc: 0.966278, Time 00:00:04\n",
      "Epoch 3. Train Loss: 0.099217, Train Acc: 0.969966, Valid Loss: 0.113919, Valid Acc: 0.964992, Time 00:00:04\n",
      "Epoch 4. Train Loss: 0.083231, Train Acc: 0.975063, Valid Loss: 0.134745, Valid Acc: 0.957278, Time 00:00:04\n",
      "Epoch 5. Train Loss: 0.075679, Train Acc: 0.977146, Valid Loss: 0.093649, Valid Acc: 0.971222, Time 00:00:04\n",
      "Epoch 6. Train Loss: 0.063236, Train Acc: 0.980560, Valid Loss: 0.093721, Valid Acc: 0.970530, Time 00:00:04\n",
      "Epoch 7. Train Loss: 0.057976, Train Acc: 0.981910, Valid Loss: 0.072008, Valid Acc: 0.978244, Time 00:00:04\n",
      "Epoch 8. Train Loss: 0.053536, Train Acc: 0.983292, Valid Loss: 0.075307, Valid Acc: 0.976958, Time 00:00:04\n",
      "Epoch 9. Train Loss: 0.049373, Train Acc: 0.984325, Valid Loss: 0.095994, Valid Acc: 0.971816, Time 00:00:04\n"
     ]
    }
   ],
   "source": [
    "net9 = fully_connected_net2()\n",
    "optimizer = torch.optim.Adam(net9.parameters(), lr = 0.001)\n",
    "train(net9, train_data, test_data, 10, optimizer, criterion)"
   ]
  },
  {
   "cell_type": "markdown",
   "metadata": {},
   "source": [
    "模型10：学习率为0.0001"
   ]
  },
  {
   "cell_type": "code",
   "execution_count": 29,
   "metadata": {},
   "outputs": [
    {
     "name": "stdout",
     "output_type": "stream",
     "text": [
      "Epoch 0. Train Loss: 1.733566, Train Acc: 0.456790, Valid Loss: 1.133767, Valid Acc: 0.658327, Time 00:00:04\n",
      "Epoch 1. Train Loss: 0.868657, Train Acc: 0.761727, Valid Loss: 0.665380, Valid Acc: 0.838706, Time 00:00:04\n",
      "Epoch 2. Train Loss: 0.554976, Train Acc: 0.865705, Valid Loss: 0.451942, Valid Acc: 0.889636, Time 00:00:04\n",
      "Epoch 3. Train Loss: 0.401807, Train Acc: 0.897621, Valid Loss: 0.344985, Valid Acc: 0.911590, Time 00:00:04\n",
      "Epoch 4. Train Loss: 0.321082, Train Acc: 0.915978, Valid Loss: 0.284225, Valid Acc: 0.925435, Time 00:00:04\n",
      "Epoch 5. Train Loss: 0.269262, Train Acc: 0.928005, Valid Loss: 0.244061, Valid Acc: 0.933841, Time 00:00:04\n",
      "Epoch 6. Train Loss: 0.233010, Train Acc: 0.936584, Valid Loss: 0.222181, Valid Acc: 0.938687, Time 00:00:04\n",
      "Epoch 7. Train Loss: 0.204890, Train Acc: 0.943364, Valid Loss: 0.197184, Valid Acc: 0.946005, Time 00:00:04\n",
      "Epoch 8. Train Loss: 0.182360, Train Acc: 0.949444, Valid Loss: 0.180031, Valid Acc: 0.950850, Time 00:00:04\n",
      "Epoch 9. Train Loss: 0.164278, Train Acc: 0.954124, Valid Loss: 0.166166, Valid Acc: 0.953026, Time 00:00:04\n"
     ]
    }
   ],
   "source": [
    "net10 = fully_connected_net2()\n",
    "optimizer = torch.optim.Adam(net10.parameters(), lr = 0.0001)\n",
    "train(net10, train_data, test_data, 10, optimizer, criterion)"
   ]
  },
  {
   "cell_type": "code",
   "execution_count": null,
   "metadata": {},
   "outputs": [],
   "source": []
  }
 ],
 "metadata": {
  "kernelspec": {
   "display_name": "Python 3",
   "language": "python",
   "name": "python3"
  },
  "language_info": {
   "codemirror_mode": {
    "name": "ipython",
    "version": 3
   },
   "file_extension": ".py",
   "mimetype": "text/x-python",
   "name": "python",
   "nbconvert_exporter": "python",
   "pygments_lexer": "ipython3",
   "version": "3.6.6"
  }
 },
 "nbformat": 4,
 "nbformat_minor": 2
}
